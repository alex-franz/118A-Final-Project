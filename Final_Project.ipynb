{
 "cells": [
  {
   "cell_type": "markdown",
   "id": "848bd8c6-2d32-49f5-add3-cf6eb9a76f12",
   "metadata": {},
   "source": [
    "# COGS 118A Final Project Source Code "
   ]
  },
  {
   "cell_type": "markdown",
   "id": "73608cc0-f71e-4729-9e09-e81498d22b26",
   "metadata": {},
   "source": [
    "## Imports\n",
    "\n",
    "Here are all the packages we use for the data retireval, data pre-processing, and classifier implementations."
   ]
  },
  {
   "cell_type": "code",
   "execution_count": 1,
   "id": "52facef9-f301-492c-97db-5121e48562b3",
   "metadata": {},
   "outputs": [],
   "source": [
    "# UCI Data Retreival\n",
    "from ucimlrepo import fetch_ucirepo \n",
    "\n",
    "# For data preprocessing\n",
    "import pandas as pd\n",
    "from sklearn.model_selection import train_test_split  \n",
    "from sklearn.preprocessing import StandardScaler      \n",
    "from sklearn.model_selection import GridSearchCV      \n",
    "\n",
    "# Classifiers\n",
    "from sklearn.ensemble import RandomForestClassifier   \n",
    "from sklearn.svm import SVC                           \n",
    "from sklearn.linear_model import LogisticRegression   \n",
    "\n",
    "# For evaluation\n",
    "from sklearn.metrics import accuracy_score\n",
    "\n",
    "# For Results\n",
    "from tabulate import tabulate"
   ]
  },
  {
   "cell_type": "markdown",
   "id": "41a6b79f-fdfc-40b2-9753-ba857e0fbd33",
   "metadata": {},
   "source": [
    "## Function to Create Partitions of Data\n",
    "\n",
    "This function partitions the data in all ways the paper wants us to partition, 20/80, 50/50, 80/20."
   ]
  },
  {
   "cell_type": "code",
   "execution_count": 3,
   "id": "d5f69eb9-dfb7-4b29-8095-c07dd8d0234a",
   "metadata": {},
   "outputs": [],
   "source": [
    "# Partitions data in three wats, and store the partitions in a list of dictionaries\n",
    "\n",
    "def partition_data(X, y, random_state=42):\n",
    "    def create_partition(X, y, test_size, val_size=0.2, split_name=\"Partition\"):     \n",
    "        X_train, X_test, y_train, y_test = train_test_split(X, y, test_size=test_size, random_state=random_state)\n",
    "        X_train_final, X_val, y_train_final, y_val = train_test_split(\n",
    "            X_train, y_train, test_size=val_size, random_state=random_state\n",
    "        )\n",
    "        return {\n",
    "            \"X_train\": X_train_final,\n",
    "            \"X_val\": X_val,\n",
    "            \"X_test\": X_test,\n",
    "            \"y_train\": y_train_final,\n",
    "            \"y_val\": y_val,\n",
    "            \"y_test\": y_test,\n",
    "            \"name\": split_name\n",
    "        }\n",
    "    partitions = [\n",
    "        create_partition(X, y, test_size=0.8, split_name=\"20/80\"),\n",
    "        create_partition(X, y, test_size=0.5, split_name=\"50/50\"),\n",
    "        create_partition(X, y, test_size=0.2, split_name=\"80/20\")\n",
    "    ]\n",
    "    return partitions\n"
   ]
  },
  {
   "cell_type": "markdown",
   "id": "d7a31930-2c35-4582-a37b-7a462c9a5d0e",
   "metadata": {},
   "source": [
    "## Process Models Function\n",
    "\n",
    "This function runs the partitions of each dataset through each classifier with optimal parameters."
   ]
  },
  {
   "cell_type": "code",
   "execution_count": 5,
   "id": "4df2b3db-0651-44ab-b421-35bd15c2f9a1",
   "metadata": {},
   "outputs": [],
   "source": [
    "def process_model(partitions, model_type, param_grid, scaler_required=False):\n",
    "    bold_model_name = f\"\\033[1m{model_type.__name__} Results\\033[0m\"\n",
    "    print(bold_model_name)\n",
    "    table = []  \n",
    "    overall_training_accuracies = []  \n",
    "    overall_validation_accuracies = []  \n",
    "    overall_test_accuracies = []  \n",
    "    for partition in partitions:\n",
    "        partition_name = partition['name']\n",
    "        training_accuracies = []\n",
    "        validation_accuracies = []\n",
    "        test_accuracies = []\n",
    "        best_params_overall = None\n",
    "        best_cv_score_overall = 0  \n",
    "        for iteration in range(3):  \n",
    "            y_train_flat = partition[\"y_train\"].to_numpy().ravel()\n",
    "            y_val_flat = partition[\"y_val\"].to_numpy().ravel()\n",
    "            y_test_flat = partition[\"y_test\"].to_numpy().ravel()\n",
    "            model = model_type(random_state=42) if model_type != SVC else model_type()\n",
    "            grid_search = GridSearchCV(\n",
    "                model,\n",
    "                param_grid,\n",
    "                cv=5,\n",
    "                scoring='accuracy',\n",
    "                verbose=0,\n",
    "                n_jobs=-1\n",
    "            )\n",
    "            if scaler_required:\n",
    "                scaler = StandardScaler()\n",
    "                X_train_scaled = scaler.fit_transform(partition[\"X_train\"])\n",
    "                X_val_scaled = scaler.transform(partition[\"X_val\"])\n",
    "                X_test_scaled = scaler.transform(partition[\"X_test\"])\n",
    "            else:\n",
    "                X_train_scaled = partition[\"X_train\"]\n",
    "                X_val_scaled = partition[\"X_val\"]\n",
    "                X_test_scaled = partition[\"X_test\"]\n",
    "            grid_search.fit(X_train_scaled, y_train_flat)\n",
    "            best_params = grid_search.best_params_\n",
    "            best_cv_score = grid_search.best_score_\n",
    "            best_model = grid_search.best_estimator_\n",
    "            if best_cv_score > best_cv_score_overall:\n",
    "                best_params_overall = best_params\n",
    "                best_cv_score_overall = best_cv_score\n",
    "            y_val_pred = best_model.predict(X_val_scaled)\n",
    "            validation_accuracy = accuracy_score(y_val_flat, y_val_pred)\n",
    "            y_train_pred = best_model.predict(X_train_scaled)\n",
    "            training_accuracy = accuracy_score(y_train_flat, y_train_pred)\n",
    "            y_test_pred = best_model.predict(X_test_scaled)\n",
    "            test_accuracy = accuracy_score(y_test_flat, y_test_pred)\n",
    "            training_accuracies.append(training_accuracy)\n",
    "            validation_accuracies.append(validation_accuracy)\n",
    "            test_accuracies.append(test_accuracy)\n",
    "        avg_training_accuracy = sum(training_accuracies) / len(training_accuracies)\n",
    "        avg_validation_accuracy = sum(validation_accuracies) / len(validation_accuracies)\n",
    "        avg_test_accuracy = sum(test_accuracies) / len(test_accuracies)\n",
    "        overall_training_accuracies.append(avg_training_accuracy)\n",
    "        overall_validation_accuracies.append(avg_validation_accuracy)\n",
    "        overall_test_accuracies.append(avg_test_accuracy)\n",
    "        formatted_best_params = \"\\n\".join([f\"{key}: {value}\" for key, value in best_params_overall.items()])\n",
    "        table.append([\n",
    "            partition_name,\n",
    "            formatted_best_params,\n",
    "            f\"{best_cv_score_overall:.4f}\",\n",
    "            f\"{avg_training_accuracy:.4f}\",\n",
    "            f\"{avg_validation_accuracy:.4f}\",\n",
    "            f\"{avg_test_accuracy:.4f}\"\n",
    "        ])\n",
    "    overall_avg_training = sum(overall_training_accuracies) / len(overall_training_accuracies)\n",
    "    overall_avg_validation = sum(overall_validation_accuracies) / len(overall_validation_accuracies)\n",
    "    overall_avg_test = sum(overall_test_accuracies) / len(overall_test_accuracies)\n",
    "    table.append([\n",
    "        \"Overall Averages\",\n",
    "        \"-\",\n",
    "        \"-\",\n",
    "        f\"{overall_avg_training:.4f}\",\n",
    "        f\"{overall_avg_validation:.4f}\",\n",
    "        f\"{overall_avg_test:.4f}\"\n",
    "    ])\n",
    "    headers = [\n",
    "        \"Partition (3 Iterations)\", \n",
    "        \"Best Params\", \n",
    "        \"CV Accuracy\", \n",
    "        \"Avg Training Accuracy\", \n",
    "        \"Avg Validation Accuracy\", \n",
    "        \"Avg Test Accuracy\"\n",
    "    ]\n",
    "    print(tabulate(table, headers=headers, tablefmt=\"grid\"))\n"
   ]
  },
  {
   "cell_type": "markdown",
   "id": "c7bb2e6d-6670-437a-8d2f-efc18adc7d27",
   "metadata": {},
   "source": [
    "## Parameter Grids\n",
    "\n",
    "Here, we are defining our parameter grids we aim to cross-validate. We are not including non-linear kernal for SVM due to its high computational cost. "
   ]
  },
  {
   "cell_type": "code",
   "execution_count": 7,
   "id": "26cf6e81-2ec9-4cce-8b3f-b215c8bd6870",
   "metadata": {},
   "outputs": [],
   "source": [
    "# Define parameter grids for each model\n",
    "svm_param_grid = {\n",
    "    'C': [10**i for i in range(-7, 4)],    # Regularization parameters                       \n",
    "}\n",
    "\n",
    "rf_param_grid = {Cross-Validation \n",
    "    'n_estimators': [100, 200, 300],       # Number of trees\n",
    "    'max_depth': [None, 10, 20, 30],      # Maximum depth\n",
    "    'min_samples_split': [2, 5, 10],      # Minimum samples to split\n",
    "    'min_samples_leaf': [1, 2, 4]         # Minimum samples at a leaf node\n",
    "}\n",
    "\n",
    "logreg_param_grid = {\n",
    "    'C': [10**i for i in range(-4, 4)],   # Regularization strength\n",
    "    'penalty': ['l2'],                    # L2 regularization\n",
    "    'solver': ['lbfgs'],                  # Solver\n",
    "    'max_iter': [500, 1000]               # Max iterations\n",
    "}"
   ]
  },
  {
   "cell_type": "markdown",
   "id": "7d48e697-22d5-4d6c-842c-7e2280cf27b8",
   "metadata": {},
   "source": [
    "## Dataset 1: Credit Approval\n",
    "\n",
    "Retrieving the dataset from the UCI Repository."
   ]
  },
  {
   "cell_type": "code",
   "execution_count": 9,
   "id": "704d909e-706b-457a-85aa-f6ba0c7fe24a",
   "metadata": {},
   "outputs": [
    {
     "name": "stdout",
     "output_type": "stream",
     "text": [
      "   name     role         type demographic description units missing_values\n",
      "0   A16   Target  Categorical        None        None  None             no\n",
      "1   A15  Feature   Continuous        None        None  None             no\n",
      "2   A14  Feature   Continuous        None        None  None            yes\n",
      "3   A13  Feature  Categorical        None        None  None             no\n",
      "4   A12  Feature  Categorical        None        None  None             no\n",
      "5   A11  Feature   Continuous        None        None  None             no\n",
      "6   A10  Feature  Categorical        None        None  None             no\n",
      "7    A9  Feature  Categorical        None        None  None             no\n",
      "8    A8  Feature   Continuous        None        None  None             no\n",
      "9    A7  Feature  Categorical        None        None  None            yes\n",
      "10   A6  Feature  Categorical        None        None  None            yes\n",
      "11   A5  Feature  Categorical        None        None  None            yes\n",
      "12   A4  Feature  Categorical        None        None  None            yes\n",
      "13   A3  Feature   Continuous        None        None  None             no\n",
      "14   A2  Feature   Continuous        None        None  None            yes\n",
      "15   A1  Feature  Categorical        None        None  None            yes\n"
     ]
    }
   ],
   "source": [
    "credit_approval = fetch_ucirepo(id=27) \n",
    "  \n",
    "X_1 = credit_approval.data.features \n",
    "y_1 = credit_approval.data.targets \n",
    "   \n",
    "print(credit_approval.variables) "
   ]
  },
  {
   "cell_type": "code",
   "execution_count": 13,
   "id": "9145ef80-8272-475f-a2b9-46c384f0f9b9",
   "metadata": {},
   "outputs": [
    {
     "name": "stdout",
     "output_type": "stream",
     "text": [
      "   A15    A14 A13 A12  A11 A10 A9    A8 A7 A6 A5 A4     A3     A2 A1\n",
      "0    0  202.0   g   f    1   t  t  1.25  v  w  g  u  0.000  30.83  b\n",
      "1  560   43.0   g   f    6   t  t  3.04  h  q  g  u  4.460  58.67  a\n",
      "2  824  280.0   g   f    0   f  t  1.50  h  q  g  u  0.500  24.50  a\n",
      "3    3  100.0   g   t    5   t  t  3.75  v  w  g  u  1.540  27.83  b\n",
      "4    0  120.0   s   f    0   f  t  1.71  v  w  g  u  5.625  20.17  b\n"
     ]
    }
   ],
   "source": [
    "print(X_1.head())"
   ]
  },
  {
   "cell_type": "markdown",
   "id": "f8c6c809-7013-4609-8278-c982ed499bc4",
   "metadata": {},
   "source": [
    "### Data Preprocessing\n",
    "\n",
    "Dropping any missing rows, and one-hot encoding the categorical features. "
   ]
  },
  {
   "cell_type": "code",
   "execution_count": 15,
   "id": "ac130c53-e3fe-4140-b7cc-a97d28ec1f0b",
   "metadata": {},
   "outputs": [
    {
     "name": "stdout",
     "output_type": "stream",
     "text": [
      "   A15    A14  A11    A8     A3     A2  A1_a  A1_b  A4_l  A4_u  ...  A7_z  \\\n",
      "0    0  202.0    1  1.25  0.000  30.83     0     1     0     1  ...     0   \n",
      "1  560   43.0    6  3.04  4.460  58.67     1     0     0     1  ...     0   \n",
      "2  824  280.0    0  1.50  0.500  24.50     1     0     0     1  ...     0   \n",
      "3    3  100.0    5  3.75  1.540  27.83     0     1     0     1  ...     0   \n",
      "4    0  120.0    0  1.71  5.625  20.17     0     1     0     1  ...     0   \n",
      "\n",
      "   A9_f  A9_t  A10_f  A10_t  A12_f  A12_t  A13_g  A13_p  A13_s  \n",
      "0     0     1      0      1      1      0      1      0      0  \n",
      "1     0     1      0      1      1      0      1      0      0  \n",
      "2     0     1      1      0      1      0      1      0      0  \n",
      "3     0     1      0      1      0      1      1      0      0  \n",
      "4     0     1      1      0      1      0      0      0      1  \n",
      "\n",
      "[5 rows x 46 columns]\n",
      "   A16\n",
      "0    1\n",
      "1    1\n",
      "2    1\n",
      "3    1\n",
      "4    1\n"
     ]
    },
    {
     "name": "stderr",
     "output_type": "stream",
     "text": [
      "C:\\Users\\afran\\AppData\\Local\\Temp\\ipykernel_22012\\1689191267.py:17: FutureWarning: Downcasting behavior in `replace` is deprecated and will be removed in a future version. To retain the old behavior, explicitly call `result.infer_objects(copy=False)`. To opt-in to the future behavior, set `pd.set_option('future.no_silent_downcasting', True)`\n",
      "  X_1_encoded = X_1_encoded.replace({True: 1, False: 0})\n",
      "C:\\Users\\afran\\AppData\\Local\\Temp\\ipykernel_22012\\1689191267.py:20: FutureWarning: Downcasting behavior in `replace` is deprecated and will be removed in a future version. To retain the old behavior, explicitly call `result.infer_objects(copy=False)`. To opt-in to the future behavior, set `pd.set_option('future.no_silent_downcasting', True)`\n",
      "  y_1.loc[:, 'A16'] = y_1['A16'].replace({'+': 1, '-': 0})\n"
     ]
    }
   ],
   "source": [
    "nan_indices = X_1[X_1.isna().any(axis=1)].index\n",
    "\n",
    "X_1 = X_1.drop(index=nan_indices)  \n",
    "y_1 = y_1.drop(index=nan_indices)  \n",
    "X_1.reset_index(drop=True, inplace=True)\n",
    "y_1.reset_index(drop=True, inplace=True)\n",
    "\n",
    "non_numerical_columns = ['A1','A4','A5','A6','A7','A9','A10','A12','A13']\n",
    "\n",
    "X_1_encoded = pd.get_dummies(X_1, columns=non_numerical_columns)\n",
    "X_1_encoded = X_1_encoded.replace({True: 1, False: 0})\n",
    "\n",
    "y_1.loc[:, 'A16'] = y_1['A16'].replace({'+': 1, '-': 0})\n",
    "y_1 = y_1.astype(int)  \n",
    "\n",
    "print(X_1_encoded.head())\n",
    "print(y_1.head())"
   ]
  },
  {
   "cell_type": "markdown",
   "id": "98ebd6ba-c522-455f-a0e4-f31084b32f23",
   "metadata": {},
   "source": [
    "## Partitioning and Running Models\n",
    "\n",
    "We are partitioning the data and running the partitions through the process model function to attain the results. "
   ]
  },
  {
   "cell_type": "code",
   "execution_count": 17,
   "id": "2629255c-3c52-488d-9017-2f4246d953b3",
   "metadata": {},
   "outputs": [],
   "source": [
    "partitions_1 = partition_data(X_1_encoded, y_1, random_state=42)"
   ]
  },
  {
   "cell_type": "code",
   "execution_count": 19,
   "id": "2919eb93-eae3-4509-a0b6-87d7bdbd8939",
   "metadata": {
    "scrolled": true
   },
   "outputs": [
    {
     "name": "stdout",
     "output_type": "stream",
     "text": [
      "\u001b[1mSVC Results\u001b[0m\n",
      "+----------------------------+---------------+---------------+-------------------------+---------------------------+---------------------+\n",
      "| Partition (3 Iterations)   | Best Params   | CV Accuracy   |   Avg Training Accuracy |   Avg Validation Accuracy |   Avg Test Accuracy |\n",
      "+============================+===============+===============+=========================+===========================+=====================+\n",
      "| 20/80                      | C: 1          | 0.8257        |                  0.9519 |                    0.8462 |              0.8432 |\n",
      "+----------------------------+---------------+---------------+-------------------------+---------------------------+---------------------+\n",
      "| 50/50                      | C: 1          | 0.8615        |                  0.9269 |                    0.7576 |              0.8716 |\n",
      "+----------------------------+---------------+---------------+-------------------------+---------------------------+---------------------+\n",
      "| 80/20                      | C: 1          | 0.8777        |                  0.9209 |                    0.819  |              0.855  |\n",
      "+----------------------------+---------------+---------------+-------------------------+---------------------------+---------------------+\n",
      "| Overall Averages           | -             | -             |                  0.9332 |                    0.8076 |              0.8566 |\n",
      "+----------------------------+---------------+---------------+-------------------------+---------------------------+---------------------+\n",
      "\u001b[1mRandomForestClassifier Results\u001b[0m\n",
      "+----------------------------+-----------------------+---------------+-------------------------+---------------------------+---------------------+\n",
      "| Partition (3 Iterations)   | Best Params           | CV Accuracy   |   Avg Training Accuracy |   Avg Validation Accuracy |   Avg Test Accuracy |\n",
      "+============================+=======================+===============+=========================+===========================+=====================+\n",
      "| 20/80                      | max_depth: None       | 0.8843        |                  0.9423 |                    0.8077 |              0.87   |\n",
      "|                            | min_samples_leaf: 1   |               |                         |                           |                     |\n",
      "|                            | min_samples_split: 10 |               |                         |                           |                     |\n",
      "|                            | n_estimators: 100     |               |                         |                           |                     |\n",
      "+----------------------------+-----------------------+---------------+-------------------------+---------------------------+---------------------+\n",
      "| 50/50                      | max_depth: None       | 0.8692        |                  0.9654 |                    0.7879 |              0.8746 |\n",
      "|                            | min_samples_leaf: 1   |               |                         |                           |                     |\n",
      "|                            | min_samples_split: 5  |               |                         |                           |                     |\n",
      "|                            | n_estimators: 200     |               |                         |                           |                     |\n",
      "+----------------------------+-----------------------+---------------+-------------------------+---------------------------+---------------------+\n",
      "| 80/20                      | max_depth: None       | 0.8945        |                  0.9664 |                    0.8286 |              0.8473 |\n",
      "|                            | min_samples_leaf: 1   |               |                         |                           |                     |\n",
      "|                            | min_samples_split: 5  |               |                         |                           |                     |\n",
      "|                            | n_estimators: 100     |               |                         |                           |                     |\n",
      "+----------------------------+-----------------------+---------------+-------------------------+---------------------------+---------------------+\n",
      "| Overall Averages           | -                     | -             |                  0.958  |                    0.808  |              0.864  |\n",
      "+----------------------------+-----------------------+---------------+-------------------------+---------------------------+---------------------+\n",
      "\u001b[1mLogisticRegression Results\u001b[0m\n",
      "+----------------------------+---------------+---------------+-------------------------+---------------------------+---------------------+\n",
      "| Partition (3 Iterations)   | Best Params   | CV Accuracy   |   Avg Training Accuracy |   Avg Validation Accuracy |   Avg Test Accuracy |\n",
      "+============================+===============+===============+=========================+===========================+=====================+\n",
      "| 20/80                      | C: 0.1        | 0.8448        |                  0.9327 |                    0.8846 |              0.8528 |\n",
      "|                            | max_iter: 500 |               |                         |                           |                     |\n",
      "|                            | penalty: l2   |               |                         |                           |                     |\n",
      "|                            | solver: lbfgs |               |                         |                           |                     |\n",
      "+----------------------------+---------------+---------------+-------------------------+---------------------------+---------------------+\n",
      "| 50/50                      | C: 0.1        | 0.8731        |                  0.9038 |                    0.7424 |              0.8869 |\n",
      "|                            | max_iter: 500 |               |                         |                           |                     |\n",
      "|                            | penalty: l2   |               |                         |                           |                     |\n",
      "|                            | solver: lbfgs |               |                         |                           |                     |\n",
      "+----------------------------+---------------+---------------+-------------------------+---------------------------+---------------------+\n",
      "| 80/20                      | C: 0.1        | 0.8825        |                  0.9017 |                    0.8381 |              0.8397 |\n",
      "|                            | max_iter: 500 |               |                         |                           |                     |\n",
      "|                            | penalty: l2   |               |                         |                           |                     |\n",
      "|                            | solver: lbfgs |               |                         |                           |                     |\n",
      "+----------------------------+---------------+---------------+-------------------------+---------------------------+---------------------+\n",
      "| Overall Averages           | -             | -             |                  0.9127 |                    0.8217 |              0.8598 |\n",
      "+----------------------------+---------------+---------------+-------------------------+---------------------------+---------------------+\n"
     ]
    }
   ],
   "source": [
    "# Run SVM\n",
    "process_model(partitions_1, SVC, svm_param_grid, scaler_required=True)\n",
    "\n",
    "# Run Random Forest\n",
    "process_model(partitions_1, RandomForestClassifier, rf_param_grid, scaler_required=False)\n",
    "\n",
    "# Run Logistic Regression\n",
    "process_model(partitions_1, LogisticRegression, logreg_param_grid, scaler_required=True)"
   ]
  },
  {
   "cell_type": "markdown",
   "id": "5d72167e-b968-46f2-ae4a-db64af130d4a",
   "metadata": {},
   "source": [
    "## Dataset 2: Parkinson's\n",
    "\n",
    "Retrieving the dataset from the UCI Repository."
   ]
  },
  {
   "cell_type": "code",
   "execution_count": 22,
   "id": "c95ce751-454a-4396-b705-ddbaba7b4360",
   "metadata": {},
   "outputs": [
    {
     "name": "stdout",
     "output_type": "stream",
     "text": [
      "            name     role         type demographic description units  \\\n",
      "0           name       ID  Categorical        None        None  None   \n",
      "1        MDVP:Fo  Feature   Continuous        None        None    Hz   \n",
      "2       MDVP:Fhi  Feature   Continuous        None        None    Hz   \n",
      "3       MDVP:Flo  Feature   Continuous        None        None    Hz   \n",
      "4    MDVP:Jitter  Feature   Continuous        None        None     %   \n",
      "5    MDVP:Jitter  Feature   Continuous        None        None   Abs   \n",
      "6       MDVP:RAP  Feature   Continuous        None        None  None   \n",
      "7       MDVP:PPQ  Feature   Continuous        None        None  None   \n",
      "8     Jitter:DDP  Feature   Continuous        None        None  None   \n",
      "9   MDVP:Shimmer  Feature   Continuous        None        None  None   \n",
      "10  MDVP:Shimmer  Feature   Continuous        None        None    dB   \n",
      "11  Shimmer:APQ3  Feature   Continuous        None        None  None   \n",
      "12  Shimmer:APQ5  Feature   Continuous        None        None  None   \n",
      "13      MDVP:APQ  Feature   Continuous        None        None  None   \n",
      "14   Shimmer:DDA  Feature   Continuous        None        None  None   \n",
      "15           NHR  Feature   Continuous        None        None  None   \n",
      "16           HNR  Feature   Continuous        None        None  None   \n",
      "17        status   Target      Integer        None        None  None   \n",
      "18          RPDE  Feature   Continuous        None        None  None   \n",
      "19           DFA  Feature   Continuous        None        None  None   \n",
      "20       spread1  Feature   Continuous        None        None  None   \n",
      "21       spread2  Feature   Continuous        None        None  None   \n",
      "22            D2  Feature   Continuous        None        None  None   \n",
      "23           PPE  Feature   Continuous        None        None  None   \n",
      "\n",
      "   missing_values  \n",
      "0              no  \n",
      "1              no  \n",
      "2              no  \n",
      "3              no  \n",
      "4              no  \n",
      "5              no  \n",
      "6              no  \n",
      "7              no  \n",
      "8              no  \n",
      "9              no  \n",
      "10             no  \n",
      "11             no  \n",
      "12             no  \n",
      "13             no  \n",
      "14             no  \n",
      "15             no  \n",
      "16             no  \n",
      "17             no  \n",
      "18             no  \n",
      "19             no  \n",
      "20             no  \n",
      "21             no  \n",
      "22             no  \n",
      "23             no  \n"
     ]
    }
   ],
   "source": [
    "from ucimlrepo import fetch_ucirepo \n",
    "  \n",
    "# fetch dataset \n",
    "parkinsons = fetch_ucirepo(id=174) \n",
    "  \n",
    "# data (as pandas dataframes) \n",
    "X_2 = parkinsons.data.features \n",
    "y_2 = parkinsons.data.targets \n",
    "  \n",
    "# variable information \n",
    "print(parkinsons.variables) "
   ]
  },
  {
   "cell_type": "code",
   "execution_count": 23,
   "id": "bc9094bc-2566-4789-a441-e6bc2210980a",
   "metadata": {},
   "outputs": [
    {
     "name": "stdout",
     "output_type": "stream",
     "text": [
      "   MDVP:Fo  MDVP:Fhi  MDVP:Flo  MDVP:Jitter  MDVP:Jitter  MDVP:RAP  MDVP:PPQ  \\\n",
      "0  119.992   157.302    74.997      0.00784      0.00784   0.00370   0.00554   \n",
      "1  122.400   148.650   113.819      0.00968      0.00968   0.00465   0.00696   \n",
      "2  116.682   131.111   111.555      0.01050      0.01050   0.00544   0.00781   \n",
      "3  116.676   137.871   111.366      0.00997      0.00997   0.00502   0.00698   \n",
      "4  116.014   141.781   110.655      0.01284      0.01284   0.00655   0.00908   \n",
      "\n",
      "   Jitter:DDP  MDVP:Shimmer  MDVP:Shimmer  ...  MDVP:APQ  Shimmer:DDA  \\\n",
      "0     0.01109       0.04374       0.04374  ...   0.02971      0.06545   \n",
      "1     0.01394       0.06134       0.06134  ...   0.04368      0.09403   \n",
      "2     0.01633       0.05233       0.05233  ...   0.03590      0.08270   \n",
      "3     0.01505       0.05492       0.05492  ...   0.03772      0.08771   \n",
      "4     0.01966       0.06425       0.06425  ...   0.04465      0.10470   \n",
      "\n",
      "       NHR     HNR      RPDE       DFA   spread1   spread2        D2       PPE  \n",
      "0  0.02211  21.033  0.414783  0.815285 -4.813031  0.266482  2.301442  0.284654  \n",
      "1  0.01929  19.085  0.458359  0.819521 -4.075192  0.335590  2.486855  0.368674  \n",
      "2  0.01309  20.651  0.429895  0.825288 -4.443179  0.311173  2.342259  0.332634  \n",
      "3  0.01353  20.644  0.434969  0.819235 -4.117501  0.334147  2.405554  0.368975  \n",
      "4  0.01767  19.649  0.417356  0.823484 -3.747787  0.234513  2.332180  0.410335  \n",
      "\n",
      "[5 rows x 22 columns]\n"
     ]
    }
   ],
   "source": [
    "print(X_2.head())"
   ]
  },
  {
   "cell_type": "code",
   "execution_count": 24,
   "id": "72fb0c30-d4ff-4783-b55d-885664663b49",
   "metadata": {},
   "outputs": [
    {
     "name": "stdout",
     "output_type": "stream",
     "text": [
      "   status\n",
      "0       1\n",
      "1       1\n",
      "2       1\n",
      "3       1\n",
      "4       1\n"
     ]
    }
   ],
   "source": [
    "print(y_2.head())"
   ]
  },
  {
   "cell_type": "markdown",
   "id": "d91b987d-8f77-4eba-9178-a27dad6a96a3",
   "metadata": {},
   "source": [
    "### Partitioning and Running Models\n",
    "\n",
    "We are partitioning the data and running the partitions through the process model function to attain the results. "
   ]
  },
  {
   "cell_type": "code",
   "execution_count": 26,
   "id": "8ad69ba2-fd6f-44cc-87bb-76d7f371d45d",
   "metadata": {},
   "outputs": [],
   "source": [
    "# Define partitions\n",
    "partitions_2 = partition_data(X_2, y_2, random_state=42)"
   ]
  },
  {
   "cell_type": "code",
   "execution_count": 27,
   "id": "91d3de39-f7c7-49f4-a881-8ea13453e9e1",
   "metadata": {},
   "outputs": [
    {
     "name": "stdout",
     "output_type": "stream",
     "text": [
      "\u001b[1mSVC Results\u001b[0m\n",
      "+----------------------------+---------------+---------------+-------------------------+---------------------------+---------------------+\n",
      "| Partition (3 Iterations)   | Best Params   | CV Accuracy   |   Avg Training Accuracy |   Avg Validation Accuracy |   Avg Test Accuracy |\n",
      "+============================+===============+===============+=========================+===========================+=====================+\n",
      "| 20/80                      | C: 10         | 0.8667        |                  1      |                    0.875  |              0.8141 |\n",
      "+----------------------------+---------------+---------------+-------------------------+---------------------------+---------------------+\n",
      "| 50/50                      | C: 1          | 0.8567        |                  0.8571 |                    0.65   |              0.8469 |\n",
      "+----------------------------+---------------+---------------+-------------------------+---------------------------+---------------------+\n",
      "| 80/20                      | C: 100        | 0.8870        |                  1      |                    0.9375 |              0.9231 |\n",
      "+----------------------------+---------------+---------------+-------------------------+---------------------------+---------------------+\n",
      "| Overall Averages           | -             | -             |                  0.9524 |                    0.8208 |              0.8614 |\n",
      "+----------------------------+---------------+---------------+-------------------------+---------------------------+---------------------+\n",
      "\u001b[1mRandomForestClassifier Results\u001b[0m\n",
      "+----------------------------+----------------------+---------------+-------------------------+---------------------------+---------------------+\n",
      "| Partition (3 Iterations)   | Best Params          | CV Accuracy   |   Avg Training Accuracy |   Avg Validation Accuracy |   Avg Test Accuracy |\n",
      "+============================+======================+===============+=========================+===========================+=====================+\n",
      "| 20/80                      | max_depth: None      | 0.8381        |                       1 |                    0.875  |              0.8269 |\n",
      "|                            | min_samples_leaf: 1  |               |                         |                           |                     |\n",
      "|                            | min_samples_split: 5 |               |                         |                           |                     |\n",
      "|                            | n_estimators: 100    |               |                         |                           |                     |\n",
      "+----------------------------+----------------------+---------------+-------------------------+---------------------------+---------------------+\n",
      "| 50/50                      | max_depth: None      | 0.8567        |                       1 |                    0.8    |              0.898  |\n",
      "|                            | min_samples_leaf: 1  |               |                         |                           |                     |\n",
      "|                            | min_samples_split: 2 |               |                         |                           |                     |\n",
      "|                            | n_estimators: 200    |               |                         |                           |                     |\n",
      "+----------------------------+----------------------+---------------+-------------------------+---------------------------+---------------------+\n",
      "| 80/20                      | max_depth: None      | 0.8793        |                       1 |                    0.9375 |              0.9487 |\n",
      "|                            | min_samples_leaf: 1  |               |                         |                           |                     |\n",
      "|                            | min_samples_split: 2 |               |                         |                           |                     |\n",
      "|                            | n_estimators: 300    |               |                         |                           |                     |\n",
      "+----------------------------+----------------------+---------------+-------------------------+---------------------------+---------------------+\n",
      "| Overall Averages           | -                    | -             |                       1 |                    0.8708 |              0.8912 |\n",
      "+----------------------------+----------------------+---------------+-------------------------+---------------------------+---------------------+\n",
      "\u001b[1mLogisticRegression Results\u001b[0m\n",
      "+----------------------------+---------------+---------------+-------------------------+---------------------------+---------------------+\n",
      "| Partition (3 Iterations)   | Best Params   | CV Accuracy   |   Avg Training Accuracy |   Avg Validation Accuracy |   Avg Test Accuracy |\n",
      "+============================+===============+===============+=========================+===========================+=====================+\n",
      "| 20/80                      | C: 0.0001     | 0.7762        |                  0.7742 |                    0.75   |              0.75   |\n",
      "|                            | max_iter: 500 |               |                         |                           |                     |\n",
      "|                            | penalty: l2   |               |                         |                           |                     |\n",
      "|                            | solver: lbfgs |               |                         |                           |                     |\n",
      "+----------------------------+---------------+---------------+-------------------------+---------------------------+---------------------+\n",
      "| 50/50                      | C: 0.1        | 0.8300        |                  0.8442 |                    0.75   |              0.8776 |\n",
      "|                            | max_iter: 500 |               |                         |                           |                     |\n",
      "|                            | penalty: l2   |               |                         |                           |                     |\n",
      "|                            | solver: lbfgs |               |                         |                           |                     |\n",
      "+----------------------------+---------------+---------------+-------------------------+---------------------------+---------------------+\n",
      "| 80/20                      | C: 10         | 0.8553        |                  0.8952 |                    0.8125 |              0.9231 |\n",
      "|                            | max_iter: 500 |               |                         |                           |                     |\n",
      "|                            | penalty: l2   |               |                         |                           |                     |\n",
      "|                            | solver: lbfgs |               |                         |                           |                     |\n",
      "+----------------------------+---------------+---------------+-------------------------+---------------------------+---------------------+\n",
      "| Overall Averages           | -             | -             |                  0.8378 |                    0.7708 |              0.8502 |\n",
      "+----------------------------+---------------+---------------+-------------------------+---------------------------+---------------------+\n"
     ]
    }
   ],
   "source": [
    "# Run SVM\n",
    "process_model(partitions_2, SVC, svm_param_grid, scaler_required=True)\n",
    "\n",
    "# Run Random Forest\n",
    "process_model(partitions_2, RandomForestClassifier, rf_param_grid, scaler_required=False)\n",
    "\n",
    "# Run Logistic Regression\n",
    "process_model(partitions_2, LogisticRegression, logreg_param_grid, scaler_required=True)"
   ]
  },
  {
   "cell_type": "markdown",
   "id": "0b4e4304-b3d8-482c-b6e3-54bb628cc50f",
   "metadata": {},
   "source": [
    "## Dataset 3: Phishing Websites\n",
    "\n",
    "Retrieving the dataset from the UCI Repository."
   ]
  },
  {
   "cell_type": "code",
   "execution_count": 29,
   "id": "1da2d917-726e-4744-ba82-ed0f6adf46f9",
   "metadata": {},
   "outputs": [
    {
     "name": "stdout",
     "output_type": "stream",
     "text": [
      "                          name     role     type demographic description  \\\n",
      "0            having_ip_address  Feature  Integer        None        None   \n",
      "1                   url_length  Feature  Integer        None        None   \n",
      "2           shortining_service  Feature  Integer        None        None   \n",
      "3             having_at_symbol  Feature  Integer        None        None   \n",
      "4     double_slash_redirecting  Feature  Integer        None        None   \n",
      "5                prefix_suffix  Feature  Integer        None        None   \n",
      "6            having_sub_domain  Feature  Integer        None        None   \n",
      "7               sslfinal_state  Feature  Integer        None        None   \n",
      "8   domain_registration_length  Feature  Integer        None        None   \n",
      "9                      favicon  Feature  Integer        None        None   \n",
      "10                        port  Feature  Integer        None        None   \n",
      "11                 https_token  Feature  Integer        None        None   \n",
      "12                 request_url  Feature  Integer        None        None   \n",
      "13               url_of_anchor  Feature  Integer        None        None   \n",
      "14               links_in_tags  Feature  Integer        None        None   \n",
      "15                         sfh  Feature  Integer        None        None   \n",
      "16         submitting_to_email  Feature  Integer        None        None   \n",
      "17                abnormal_url  Feature  Integer        None        None   \n",
      "18                    redirect  Feature  Integer        None        None   \n",
      "19                on_mouseover  Feature  Integer        None        None   \n",
      "20                  rightclick  Feature  Integer        None        None   \n",
      "21                 popupwindow  Feature  Integer        None        None   \n",
      "22                      iframe  Feature  Integer        None        None   \n",
      "23               age_of_domain  Feature  Integer        None        None   \n",
      "24                   dnsrecord  Feature  Integer        None        None   \n",
      "25                 web_traffic  Feature  Integer        None        None   \n",
      "26                   page_rank  Feature  Integer        None        None   \n",
      "27                google_index  Feature  Integer        None        None   \n",
      "28      links_pointing_to_page  Feature  Integer        None        None   \n",
      "29          statistical_report  Feature  Integer        None        None   \n",
      "30                      result   Target  Integer        None        None   \n",
      "\n",
      "   units missing_values  \n",
      "0   None             no  \n",
      "1   None             no  \n",
      "2   None             no  \n",
      "3   None             no  \n",
      "4   None             no  \n",
      "5   None             no  \n",
      "6   None             no  \n",
      "7   None             no  \n",
      "8   None             no  \n",
      "9   None             no  \n",
      "10  None             no  \n",
      "11  None             no  \n",
      "12  None             no  \n",
      "13  None             no  \n",
      "14  None             no  \n",
      "15  None             no  \n",
      "16  None             no  \n",
      "17  None             no  \n",
      "18  None             no  \n",
      "19  None             no  \n",
      "20  None             no  \n",
      "21  None             no  \n",
      "22  None             no  \n",
      "23  None             no  \n",
      "24  None             no  \n",
      "25  None             no  \n",
      "26  None             no  \n",
      "27  None             no  \n",
      "28  None             no  \n",
      "29  None             no  \n",
      "30  None             no  \n"
     ]
    }
   ],
   "source": [
    "from ucimlrepo import fetch_ucirepo \n",
    "  \n",
    "# fetch dataset \n",
    "phishing_websites = fetch_ucirepo(id=327) \n",
    "  \n",
    "# data (as pandas dataframes) \n",
    "X_3 = phishing_websites.data.features \n",
    "y_3 = phishing_websites.data.targets \n",
    "  \n",
    "# variable information \n",
    "print(phishing_websites.variables) "
   ]
  },
  {
   "cell_type": "code",
   "execution_count": 30,
   "id": "38fd23ed-9a21-453e-9ba8-cc345ccbad81",
   "metadata": {},
   "outputs": [
    {
     "name": "stdout",
     "output_type": "stream",
     "text": [
      "   having_ip_address  url_length  shortining_service  having_at_symbol  \\\n",
      "0                 -1           1                   1                 1   \n",
      "1                  1           1                   1                 1   \n",
      "2                  1           0                   1                 1   \n",
      "3                  1           0                   1                 1   \n",
      "4                  1           0                  -1                 1   \n",
      "\n",
      "   double_slash_redirecting  prefix_suffix  having_sub_domain  sslfinal_state  \\\n",
      "0                        -1             -1                 -1              -1   \n",
      "1                         1             -1                  0               1   \n",
      "2                         1             -1                 -1              -1   \n",
      "3                         1             -1                 -1              -1   \n",
      "4                         1             -1                  1               1   \n",
      "\n",
      "   domain_registration_length  favicon  ...  rightclick  popupwindow  iframe  \\\n",
      "0                          -1        1  ...           1            1       1   \n",
      "1                          -1        1  ...           1            1       1   \n",
      "2                          -1        1  ...           1            1       1   \n",
      "3                           1        1  ...           1            1       1   \n",
      "4                          -1        1  ...           1           -1       1   \n",
      "\n",
      "   age_of_domain  dnsrecord  web_traffic  page_rank  google_index  \\\n",
      "0             -1         -1           -1         -1             1   \n",
      "1             -1         -1            0         -1             1   \n",
      "2              1         -1            1         -1             1   \n",
      "3             -1         -1            1         -1             1   \n",
      "4             -1         -1            0         -1             1   \n",
      "\n",
      "   links_pointing_to_page  statistical_report  \n",
      "0                       1                  -1  \n",
      "1                       1                   1  \n",
      "2                       0                  -1  \n",
      "3                      -1                   1  \n",
      "4                       1                   1  \n",
      "\n",
      "[5 rows x 30 columns]\n"
     ]
    }
   ],
   "source": [
    "print(X_3.head())"
   ]
  },
  {
   "cell_type": "code",
   "execution_count": 31,
   "id": "4e6a4eca-b6eb-4a14-b202-37dd5b88e1b1",
   "metadata": {},
   "outputs": [
    {
     "name": "stdout",
     "output_type": "stream",
     "text": [
      "   result\n",
      "0      -1\n",
      "1      -1\n",
      "2      -1\n",
      "3      -1\n",
      "4       1\n"
     ]
    }
   ],
   "source": [
    "print(y_3.head())"
   ]
  },
  {
   "cell_type": "markdown",
   "id": "0876911a-1de8-4f0a-8983-04b4c06661a7",
   "metadata": {},
   "source": [
    "### Partitioning and Running Models\n",
    "\n",
    "We are partitioning the data and running the partitions through the process model function to attain the results. "
   ]
  },
  {
   "cell_type": "code",
   "execution_count": 32,
   "id": "d7cc19bc-b80b-4e6c-973f-323103196244",
   "metadata": {},
   "outputs": [],
   "source": [
    "# Define partitions\n",
    "partitions_3 = partition_data(X_3, y_3, random_state=42)"
   ]
  },
  {
   "cell_type": "code",
   "execution_count": 33,
   "id": "4b506f02-0c39-40f3-96f3-be006fb8734a",
   "metadata": {},
   "outputs": [
    {
     "name": "stdout",
     "output_type": "stream",
     "text": [
      "\u001b[1mSVC Results\u001b[0m\n",
      "+----------------------------+---------------+---------------+-------------------------+---------------------------+---------------------+\n",
      "| Partition (3 Iterations)   | Best Params   | CV Accuracy   |   Avg Training Accuracy |   Avg Validation Accuracy |   Avg Test Accuracy |\n",
      "+============================+===============+===============+=========================+===========================+=====================+\n",
      "| 20/80                      | C: 1          | 0.9383        |                  0.9598 |                    0.9278 |              0.9359 |\n",
      "+----------------------------+---------------+---------------+-------------------------+---------------------------+---------------------+\n",
      "| 50/50                      | C: 10         | 0.9591        |                  0.9817 |                    0.9421 |              0.9484 |\n",
      "+----------------------------+---------------+---------------+-------------------------+---------------------------+---------------------+\n",
      "| 80/20                      | C: 10         | 0.9621        |                  0.9785 |                    0.9633 |              0.962  |\n",
      "+----------------------------+---------------+---------------+-------------------------+---------------------------+---------------------+\n",
      "| Overall Averages           | -             | -             |                  0.9733 |                    0.9444 |              0.9488 |\n",
      "+----------------------------+---------------+---------------+-------------------------+---------------------------+---------------------+\n",
      "\u001b[1mRandomForestClassifier Results\u001b[0m\n",
      "+----------------------------+----------------------+---------------+-------------------------+---------------------------+---------------------+\n",
      "| Partition (3 Iterations)   | Best Params          | CV Accuracy   |   Avg Training Accuracy |   Avg Validation Accuracy |   Avg Test Accuracy |\n",
      "+============================+======================+===============+=========================+===========================+=====================+\n",
      "| 20/80                      | max_depth: None      | 0.9497        |                  0.9864 |                    0.9368 |              0.9502 |\n",
      "|                            | min_samples_leaf: 1  |               |                         |                           |                     |\n",
      "|                            | min_samples_split: 5 |               |                         |                           |                     |\n",
      "|                            | n_estimators: 300    |               |                         |                           |                     |\n",
      "+----------------------------+----------------------+---------------+-------------------------+---------------------------+---------------------+\n",
      "| 50/50                      | max_depth: 20        | 0.9634        |                  0.9921 |                    0.9557 |              0.9624 |\n",
      "|                            | min_samples_leaf: 1  |               |                         |                           |                     |\n",
      "|                            | min_samples_split: 2 |               |                         |                           |                     |\n",
      "|                            | n_estimators: 100    |               |                         |                           |                     |\n",
      "+----------------------------+----------------------+---------------+-------------------------+---------------------------+---------------------+\n",
      "| 80/20                      | max_depth: None      | 0.9686        |                  0.9914 |                    0.9689 |              0.9665 |\n",
      "|                            | min_samples_leaf: 1  |               |                         |                           |                     |\n",
      "|                            | min_samples_split: 2 |               |                         |                           |                     |\n",
      "|                            | n_estimators: 200    |               |                         |                           |                     |\n",
      "+----------------------------+----------------------+---------------+-------------------------+---------------------------+---------------------+\n",
      "| Overall Averages           | -                    | -             |                  0.99   |                    0.9538 |              0.9597 |\n",
      "+----------------------------+----------------------+---------------+-------------------------+---------------------------+---------------------+\n",
      "\u001b[1mLogisticRegression Results\u001b[0m\n",
      "+----------------------------+---------------+---------------+-------------------------+---------------------------+---------------------+\n",
      "| Partition (3 Iterations)   | Best Params   | CV Accuracy   |   Avg Training Accuracy |   Avg Validation Accuracy |   Avg Test Accuracy |\n",
      "+============================+===============+===============+=========================+===========================+=====================+\n",
      "| 20/80                      | C: 0.1        | 0.9366        |                  0.9406 |                    0.921  |              0.9248 |\n",
      "|                            | max_iter: 500 |               |                         |                           |                     |\n",
      "|                            | penalty: l2   |               |                         |                           |                     |\n",
      "|                            | solver: lbfgs |               |                         |                           |                     |\n",
      "+----------------------------+---------------+---------------+-------------------------+---------------------------+---------------------+\n",
      "| 50/50                      | C: 100        | 0.9315        |                  0.9301 |                    0.9268 |              0.9233 |\n",
      "|                            | max_iter: 500 |               |                         |                           |                     |\n",
      "|                            | penalty: l2   |               |                         |                           |                     |\n",
      "|                            | solver: lbfgs |               |                         |                           |                     |\n",
      "+----------------------------+---------------+---------------+-------------------------+---------------------------+---------------------+\n",
      "| 80/20                      | C: 1          | 0.9319        |                  0.9334 |                    0.9175 |              0.9254 |\n",
      "|                            | max_iter: 500 |               |                         |                           |                     |\n",
      "|                            | penalty: l2   |               |                         |                           |                     |\n",
      "|                            | solver: lbfgs |               |                         |                           |                     |\n",
      "+----------------------------+---------------+---------------+-------------------------+---------------------------+---------------------+\n",
      "| Overall Averages           | -             | -             |                  0.9347 |                    0.9217 |              0.9245 |\n",
      "+----------------------------+---------------+---------------+-------------------------+---------------------------+---------------------+\n"
     ]
    }
   ],
   "source": [
    "# Run SVM\n",
    "process_model(partitions_3, SVC, svm_param_grid, scaler_required=True)\n",
    "\n",
    "# Run Random Forest\n",
    "process_model(partitions_3, RandomForestClassifier, rf_param_grid, scaler_required=False)\n",
    "\n",
    "# Run Logistic Regression\n",
    "process_model(partitions_3, LogisticRegression, logreg_param_grid, scaler_required=True)"
   ]
  }
 ],
 "metadata": {
  "kernelspec": {
   "display_name": "Python 3 (ipykernel)",
   "language": "python",
   "name": "python3"
  },
  "language_info": {
   "codemirror_mode": {
    "name": "ipython",
    "version": 3
   },
   "file_extension": ".py",
   "mimetype": "text/x-python",
   "name": "python",
   "nbconvert_exporter": "python",
   "pygments_lexer": "ipython3",
   "version": "3.12.7"
  }
 },
 "nbformat": 4,
 "nbformat_minor": 5
}
